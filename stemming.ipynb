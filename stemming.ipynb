{
 "cells": [
  {
   "cell_type": "code",
   "execution_count": 1,
   "metadata": {},
   "outputs": [],
   "source": [
    "import nltk"
   ]
  },
  {
   "cell_type": "markdown",
   "metadata": {},
   "source": [
    "### We need to use Stemming for removine same type of word like eating,eaten, eat se in the stemming we take only \n",
    "### one word eat asma as go , gone and going "
   ]
  },
  {
   "cell_type": "markdown",
   "metadata": {},
   "source": [
    "#### For stemming we use PoterStemming - it has some draw back like its now taking some words like hostory\n",
    "#### going , eaten congratulation"
   ]
  },
  {
   "cell_type": "code",
   "execution_count": 4,
   "metadata": {},
   "outputs": [],
   "source": [
    "# now we are going to import class PorterStemmer\n",
    "words = [\"eat\", \"ate\", \"Eaten\", \"going\",\"go\", \"History\",\"Congratulations\"]\n",
    "\n",
    "from nltk.stem import PorterStemmer\n",
    "porterStammer = PorterStemmer()"
   ]
  },
  {
   "cell_type": "code",
   "execution_count": 6,
   "metadata": {},
   "outputs": [
    {
     "name": "stdout",
     "output_type": "stream",
     "text": [
      " each word convert to new word like eat =====> Convert to ===>  eat\n",
      " each word convert to new word like ate =====> Convert to ===>  ate\n",
      " each word convert to new word like Eaten =====> Convert to ===>  eaten\n",
      " each word convert to new word like going =====> Convert to ===>  go\n",
      " each word convert to new word like go =====> Convert to ===>  go\n",
      " each word convert to new word like History =====> Convert to ===>  histori\n",
      " each word convert to new word like Congratulations =====> Convert to ===>  congratul\n"
     ]
    }
   ],
   "source": [
    " for word in words:\n",
    "     print(f\" each word convert to new word like {word} =====> Convert to ===>  { porterStammer.stem(word)}\")"
   ]
  },
  {
   "cell_type": "markdown",
   "metadata": {},
   "source": [
    "##### So here you can see some word dosent have converted and some have some meaning less conversion"
   ]
  },
  {
   "cell_type": "code",
   "execution_count": 7,
   "metadata": {},
   "outputs": [],
   "source": [
    "#so for more effecient we have another Stemmmer\n",
    "from nltk.stem import RegexpStemmer"
   ]
  },
  {
   "cell_type": "code",
   "execution_count": 10,
   "metadata": {},
   "outputs": [],
   "source": [
    "regstammer = RegexpStemmer(\"ing$|en$\")"
   ]
  },
  {
   "cell_type": "code",
   "execution_count": 11,
   "metadata": {},
   "outputs": [
    {
     "name": "stdout",
     "output_type": "stream",
     "text": [
      "Words remove ing and en which one is the suffix of eat converted to ==> eat\n",
      "Words remove ing and en which one is the suffix of ate converted to ==> ate\n",
      "Words remove ing and en which one is the suffix of Eaten converted to ==> Eat\n",
      "Words remove ing and en which one is the suffix of going converted to ==> go\n",
      "Words remove ing and en which one is the suffix of go converted to ==> go\n",
      "Words remove ing and en which one is the suffix of History converted to ==> History\n",
      "Words remove ing and en which one is the suffix of Congratulations converted to ==> Congratulations\n"
     ]
    }
   ],
   "source": [
    "for word in words:\n",
    "    print(f\"Words remove ing and en which one is the suffix of {word} converted to ==> {regstammer.stem(word)}\")"
   ]
  },
  {
   "cell_type": "markdown",
   "metadata": {},
   "source": [
    "## SnowBall Stemmer  which is more getter performance for other Stemmer "
   ]
  },
  {
   "cell_type": "code",
   "execution_count": 12,
   "metadata": {},
   "outputs": [],
   "source": [
    "from nltk.stem import SnowballStemmer"
   ]
  },
  {
   "cell_type": "code",
   "execution_count": 17,
   "metadata": {},
   "outputs": [],
   "source": [
    "snowStemmer = SnowballStemmer(\"english\")"
   ]
  },
  {
   "cell_type": "code",
   "execution_count": 19,
   "metadata": {},
   "outputs": [
    {
     "name": "stdout",
     "output_type": "stream",
     "text": [
      "using snow Stemmer  eat => eat\n",
      "using snow Stemmer  ate => ate\n",
      "using snow Stemmer  Eaten => eaten\n",
      "using snow Stemmer  going => go\n",
      "using snow Stemmer  go => go\n",
      "using snow Stemmer  History => histori\n",
      "using snow Stemmer  Congratulations => congratul\n"
     ]
    }
   ],
   "source": [
    "for word in words: \n",
    "    print(f\"using snow Stemmer  {word} => {snowStemmer.stem(word)}\")"
   ]
  },
  {
   "cell_type": "markdown",
   "metadata": {},
   "source": [
    "as you also see some word is not converted properly thats the case we are not use stemming in Chat bot"
   ]
  },
  {
   "cell_type": "code",
   "execution_count": null,
   "metadata": {},
   "outputs": [],
   "source": []
  }
 ],
 "metadata": {
  "interpreter": {
   "hash": "6fb850afda643d78484a66b64751fea1606e1153aeece60e14c384b18dedc7e0"
  },
  "kernelspec": {
   "display_name": "Python 3.10.4 64-bit",
   "language": "python",
   "name": "python3"
  },
  "language_info": {
   "codemirror_mode": {
    "name": "ipython",
    "version": 3
   },
   "file_extension": ".py",
   "mimetype": "text/x-python",
   "name": "python",
   "nbconvert_exporter": "python",
   "pygments_lexer": "ipython3",
   "version": "3.10.4"
  },
  "orig_nbformat": 4
 },
 "nbformat": 4,
 "nbformat_minor": 2
}
